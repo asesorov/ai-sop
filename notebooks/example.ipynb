{
 "cells": [
  {
   "cell_type": "code",
   "execution_count": 36,
   "metadata": {},
   "outputs": [],
   "source": [
    "import pandas as pd\n",
    "import os\n",
    "from typing import Optional, Tuple, List, Dict, Union\n",
    "from catboost import Pool, CatBoostRegressor\n",
    "import matplotlib.pyplot as plt\n",
    "import seaborn as sns\n",
    "from sklearn.metrics import mean_absolute_error\n",
    "from src.data.loading import DataLoader\n",
    "from src.features.feature_engineering import FeaturesMaker\n",
    "from src.data.split import train_test_split_by_date\n",
    "from src.model.catboost import CatBoostPredictor\n",
    "from sklearn.linear_model import LinearRegression"
   ]
  },
  {
   "cell_type": "code",
   "execution_count": 37,
   "metadata": {},
   "outputs": [],
   "source": [
    "dl = DataLoader()\n",
    "store_sales = dl.load_store_sales('../data/store_sales_2.csv')\n",
    "store_sales_dates = dl.load_dates('../data/store_sales_dates.csv')"
   ]
  },
  {
   "cell_type": "code",
   "execution_count": 38,
   "metadata": {},
   "outputs": [],
   "source": [
    "fm = FeaturesMaker()\n",
    "dataset = fm.make_features(store_sales, 'cnt', 61, 30, store_sales_dates)"
   ]
  },
  {
   "cell_type": "code",
   "execution_count": 39,
   "metadata": {},
   "outputs": [
    {
     "data": {
      "text/html": [
       "<div>\n",
       "<style scoped>\n",
       "    .dataframe tbody tr th:only-of-type {\n",
       "        vertical-align: middle;\n",
       "    }\n",
       "\n",
       "    .dataframe tbody tr th {\n",
       "        vertical-align: top;\n",
       "    }\n",
       "\n",
       "    .dataframe thead th {\n",
       "        text-align: right;\n",
       "    }\n",
       "</style>\n",
       "<table border=\"1\" class=\"dataframe\">\n",
       "  <thead>\n",
       "    <tr style=\"text-align: right;\">\n",
       "      <th></th>\n",
       "      <th>store_id</th>\n",
       "      <th>item_id</th>\n",
       "      <th>cnt</th>\n",
       "      <th>cnt_lag_62</th>\n",
       "      <th>cnt_lag_63</th>\n",
       "      <th>cnt_lag_64</th>\n",
       "      <th>cnt_lag_65</th>\n",
       "      <th>cnt_lag_66</th>\n",
       "      <th>cnt_lag_67</th>\n",
       "      <th>cnt_lag_68</th>\n",
       "      <th>...</th>\n",
       "      <th>cnt_lag_88</th>\n",
       "      <th>cnt_lag_89</th>\n",
       "      <th>cnt_lag_90</th>\n",
       "      <th>cnt_lag_91</th>\n",
       "      <th>event_name</th>\n",
       "      <th>event_type</th>\n",
       "      <th>weekday</th>\n",
       "      <th>day</th>\n",
       "      <th>month</th>\n",
       "      <th>year</th>\n",
       "    </tr>\n",
       "    <tr>\n",
       "      <th>date</th>\n",
       "      <th></th>\n",
       "      <th></th>\n",
       "      <th></th>\n",
       "      <th></th>\n",
       "      <th></th>\n",
       "      <th></th>\n",
       "      <th></th>\n",
       "      <th></th>\n",
       "      <th></th>\n",
       "      <th></th>\n",
       "      <th></th>\n",
       "      <th></th>\n",
       "      <th></th>\n",
       "      <th></th>\n",
       "      <th></th>\n",
       "      <th></th>\n",
       "      <th></th>\n",
       "      <th></th>\n",
       "      <th></th>\n",
       "      <th></th>\n",
       "      <th></th>\n",
       "    </tr>\n",
       "  </thead>\n",
       "  <tbody>\n",
       "    <tr>\n",
       "      <th>2011-01-29</th>\n",
       "      <td>STORE_2</td>\n",
       "      <td>STORE_2_252</td>\n",
       "      <td>39</td>\n",
       "      <td>0</td>\n",
       "      <td>0</td>\n",
       "      <td>0</td>\n",
       "      <td>0</td>\n",
       "      <td>0</td>\n",
       "      <td>0</td>\n",
       "      <td>0</td>\n",
       "      <td>...</td>\n",
       "      <td>0</td>\n",
       "      <td>0</td>\n",
       "      <td>0</td>\n",
       "      <td>0</td>\n",
       "      <td>not_event</td>\n",
       "      <td>not_event</td>\n",
       "      <td>5</td>\n",
       "      <td>29</td>\n",
       "      <td>1</td>\n",
       "      <td>2011</td>\n",
       "    </tr>\n",
       "    <tr>\n",
       "      <th>2011-01-30</th>\n",
       "      <td>STORE_2</td>\n",
       "      <td>STORE_2_252</td>\n",
       "      <td>38</td>\n",
       "      <td>0</td>\n",
       "      <td>0</td>\n",
       "      <td>0</td>\n",
       "      <td>0</td>\n",
       "      <td>0</td>\n",
       "      <td>0</td>\n",
       "      <td>0</td>\n",
       "      <td>...</td>\n",
       "      <td>0</td>\n",
       "      <td>0</td>\n",
       "      <td>0</td>\n",
       "      <td>0</td>\n",
       "      <td>not_event</td>\n",
       "      <td>not_event</td>\n",
       "      <td>6</td>\n",
       "      <td>30</td>\n",
       "      <td>1</td>\n",
       "      <td>2011</td>\n",
       "    </tr>\n",
       "    <tr>\n",
       "      <th>2011-01-31</th>\n",
       "      <td>STORE_2</td>\n",
       "      <td>STORE_2_252</td>\n",
       "      <td>18</td>\n",
       "      <td>0</td>\n",
       "      <td>0</td>\n",
       "      <td>0</td>\n",
       "      <td>0</td>\n",
       "      <td>0</td>\n",
       "      <td>0</td>\n",
       "      <td>0</td>\n",
       "      <td>...</td>\n",
       "      <td>0</td>\n",
       "      <td>0</td>\n",
       "      <td>0</td>\n",
       "      <td>0</td>\n",
       "      <td>not_event</td>\n",
       "      <td>not_event</td>\n",
       "      <td>0</td>\n",
       "      <td>31</td>\n",
       "      <td>1</td>\n",
       "      <td>2011</td>\n",
       "    </tr>\n",
       "  </tbody>\n",
       "</table>\n",
       "<p>3 rows × 39 columns</p>\n",
       "</div>"
      ],
      "text/plain": [
       "           store_id      item_id  cnt  cnt_lag_62  cnt_lag_63  cnt_lag_64  \\\n",
       "date                                                                        \n",
       "2011-01-29  STORE_2  STORE_2_252   39           0           0           0   \n",
       "2011-01-30  STORE_2  STORE_2_252   38           0           0           0   \n",
       "2011-01-31  STORE_2  STORE_2_252   18           0           0           0   \n",
       "\n",
       "            cnt_lag_65  cnt_lag_66  cnt_lag_67  cnt_lag_68  ...  cnt_lag_88  \\\n",
       "date                                                        ...               \n",
       "2011-01-29           0           0           0           0  ...           0   \n",
       "2011-01-30           0           0           0           0  ...           0   \n",
       "2011-01-31           0           0           0           0  ...           0   \n",
       "\n",
       "            cnt_lag_89  cnt_lag_90  cnt_lag_91  event_name  event_type  \\\n",
       "date                                                                     \n",
       "2011-01-29           0           0           0   not_event   not_event   \n",
       "2011-01-30           0           0           0   not_event   not_event   \n",
       "2011-01-31           0           0           0   not_event   not_event   \n",
       "\n",
       "            weekday  day  month  year  \n",
       "date                                   \n",
       "2011-01-29        5   29      1  2011  \n",
       "2011-01-30        6   30      1  2011  \n",
       "2011-01-31        0   31      1  2011  \n",
       "\n",
       "[3 rows x 39 columns]"
      ]
     },
     "execution_count": 39,
     "metadata": {},
     "output_type": "execute_result"
    }
   ],
   "source": [
    "dataset.head(3)"
   ]
  },
  {
   "cell_type": "code",
   "execution_count": 41,
   "metadata": {},
   "outputs": [
    {
     "data": {
      "text/plain": [
       "Timestamp('2016-01-21 00:00:00')"
      ]
     },
     "execution_count": 41,
     "metadata": {},
     "output_type": "execute_result"
    }
   ],
   "source": [
    "dataset.index.max()"
   ]
  },
  {
   "cell_type": "code",
   "execution_count": 22,
   "metadata": {},
   "outputs": [],
   "source": [
    "train_df, test_df = train_test_split_by_date(dataset, 'date', '2015-11-22')"
   ]
  },
  {
   "cell_type": "code",
   "execution_count": 23,
   "metadata": {},
   "outputs": [
    {
     "name": "stdout",
     "output_type": "stream",
     "text": [
      "Model for store STORE_2 item STORE_2_252 fitted.\n"
     ]
    }
   ],
   "source": [
    "cb = CatBoostPredictor()\n",
    "cb.fit(train_df, 'cnt')"
   ]
  },
  {
   "cell_type": "code",
   "execution_count": 24,
   "metadata": {},
   "outputs": [],
   "source": [
    "preds = cb.predict(test_df)"
   ]
  },
  {
   "cell_type": "code",
   "execution_count": 25,
   "metadata": {},
   "outputs": [
    {
     "data": {
      "text/html": [
       "<div>\n",
       "<style scoped>\n",
       "    .dataframe tbody tr th:only-of-type {\n",
       "        vertical-align: middle;\n",
       "    }\n",
       "\n",
       "    .dataframe tbody tr th {\n",
       "        vertical-align: top;\n",
       "    }\n",
       "\n",
       "    .dataframe thead th {\n",
       "        text-align: right;\n",
       "    }\n",
       "</style>\n",
       "<table border=\"1\" class=\"dataframe\">\n",
       "  <thead>\n",
       "    <tr style=\"text-align: right;\">\n",
       "      <th></th>\n",
       "      <th>store_id</th>\n",
       "      <th>item_id</th>\n",
       "      <th>date</th>\n",
       "      <th>cnt_predict</th>\n",
       "    </tr>\n",
       "  </thead>\n",
       "  <tbody>\n",
       "    <tr>\n",
       "      <th>0</th>\n",
       "      <td>STORE_2</td>\n",
       "      <td>STORE_2_252</td>\n",
       "      <td>2015-11-22</td>\n",
       "      <td>51.390344</td>\n",
       "    </tr>\n",
       "    <tr>\n",
       "      <th>1</th>\n",
       "      <td>STORE_2</td>\n",
       "      <td>STORE_2_252</td>\n",
       "      <td>2015-11-23</td>\n",
       "      <td>32.069384</td>\n",
       "    </tr>\n",
       "    <tr>\n",
       "      <th>2</th>\n",
       "      <td>STORE_2</td>\n",
       "      <td>STORE_2_252</td>\n",
       "      <td>2015-11-24</td>\n",
       "      <td>34.811476</td>\n",
       "    </tr>\n",
       "    <tr>\n",
       "      <th>3</th>\n",
       "      <td>STORE_2</td>\n",
       "      <td>STORE_2_252</td>\n",
       "      <td>2015-11-25</td>\n",
       "      <td>32.386972</td>\n",
       "    </tr>\n",
       "    <tr>\n",
       "      <th>4</th>\n",
       "      <td>STORE_2</td>\n",
       "      <td>STORE_2_252</td>\n",
       "      <td>2015-11-26</td>\n",
       "      <td>60.827055</td>\n",
       "    </tr>\n",
       "    <tr>\n",
       "      <th>...</th>\n",
       "      <td>...</td>\n",
       "      <td>...</td>\n",
       "      <td>...</td>\n",
       "      <td>...</td>\n",
       "    </tr>\n",
       "    <tr>\n",
       "      <th>56</th>\n",
       "      <td>STORE_2</td>\n",
       "      <td>STORE_2_252</td>\n",
       "      <td>2016-01-17</td>\n",
       "      <td>56.477136</td>\n",
       "    </tr>\n",
       "    <tr>\n",
       "      <th>57</th>\n",
       "      <td>STORE_2</td>\n",
       "      <td>STORE_2_252</td>\n",
       "      <td>2016-01-18</td>\n",
       "      <td>32.909473</td>\n",
       "    </tr>\n",
       "    <tr>\n",
       "      <th>58</th>\n",
       "      <td>STORE_2</td>\n",
       "      <td>STORE_2_252</td>\n",
       "      <td>2016-01-19</td>\n",
       "      <td>29.659986</td>\n",
       "    </tr>\n",
       "    <tr>\n",
       "      <th>59</th>\n",
       "      <td>STORE_2</td>\n",
       "      <td>STORE_2_252</td>\n",
       "      <td>2016-01-20</td>\n",
       "      <td>24.667420</td>\n",
       "    </tr>\n",
       "    <tr>\n",
       "      <th>60</th>\n",
       "      <td>STORE_2</td>\n",
       "      <td>STORE_2_252</td>\n",
       "      <td>2016-01-21</td>\n",
       "      <td>23.717043</td>\n",
       "    </tr>\n",
       "  </tbody>\n",
       "</table>\n",
       "<p>61 rows × 4 columns</p>\n",
       "</div>"
      ],
      "text/plain": [
       "   store_id      item_id       date  cnt_predict\n",
       "0   STORE_2  STORE_2_252 2015-11-22    51.390344\n",
       "1   STORE_2  STORE_2_252 2015-11-23    32.069384\n",
       "2   STORE_2  STORE_2_252 2015-11-24    34.811476\n",
       "3   STORE_2  STORE_2_252 2015-11-25    32.386972\n",
       "4   STORE_2  STORE_2_252 2015-11-26    60.827055\n",
       "..      ...          ...        ...          ...\n",
       "56  STORE_2  STORE_2_252 2016-01-17    56.477136\n",
       "57  STORE_2  STORE_2_252 2016-01-18    32.909473\n",
       "58  STORE_2  STORE_2_252 2016-01-19    29.659986\n",
       "59  STORE_2  STORE_2_252 2016-01-20    24.667420\n",
       "60  STORE_2  STORE_2_252 2016-01-21    23.717043\n",
       "\n",
       "[61 rows x 4 columns]"
      ]
     },
     "execution_count": 25,
     "metadata": {},
     "output_type": "execute_result"
    }
   ],
   "source": [
    "preds"
   ]
  },
  {
   "cell_type": "code",
   "execution_count": 26,
   "metadata": {},
   "outputs": [
    {
     "data": {
      "image/png": "[encoded data removed]",
      "text/plain": [
       "<Figure size 640x480 with 1 Axes>"
      ]
     },
     "metadata": {},
     "output_type": "display_data"
    }
   ],
   "source": [
    "for store in preds['store_id'].unique():\n",
    "    store_pred_df = preds[preds['store_id'] == store]\n",
    "    store_test_df = test_df[test_df['store_id'] == store]\n",
    "\n",
    "    plt.plot(store_test_df['cnt'].values, color='blue')\n",
    "    plt.plot(store_pred_df['cnt_predict'].values, color='red')\n",
    "    plt.show()\n",
    "\n",
    "    "
   ]
  },
  {
   "cell_type": "code",
   "execution_count": 27,
   "metadata": {},
   "outputs": [
    {
     "data": {
      "text/plain": [
       "10.011245942500963"
      ]
     },
     "execution_count": 27,
     "metadata": {},
     "output_type": "execute_result"
    }
   ],
   "source": [
    "mean_absolute_error(test_df['cnt'].values, preds['cnt_predict'].values)"
   ]
  }
 ],
 "metadata": {
  "kernelspec": {
   "display_name": ".venv",
   "language": "python",
   "name": "python3"
  },
  "language_info": {
   "codemirror_mode": {
    "name": "ipython",
    "version": 3
   },
   "file_extension": ".py",
   "mimetype": "text/x-python",
   "name": "python",
   "nbconvert_exporter": "python",
   "pygments_lexer": "ipython3",
   "version": "3.10.13"
  }
 },
 "nbformat": 4,
 "nbformat_minor": 2
}
